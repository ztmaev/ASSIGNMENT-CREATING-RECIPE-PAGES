{
  "nbformat": 4,
  "nbformat_minor": 0,
  "metadata": {
    "colab": {
      "provenance": [],
      "authorship_tag": "ABX9TyPOik6PVYSIs64xZGemvr93",
      "include_colab_link": true
    },
    "kernelspec": {
      "name": "python3",
      "display_name": "Python 3"
    },
    "language_info": {
      "name": "python"
    }
  },
  "cells": [
    {
      "cell_type": "markdown",
      "metadata": {
        "id": "view-in-github",
        "colab_type": "text"
      },
      "source": [
        "<a href=\"https://colab.research.google.com/github/ztmaev/ASSIGNMENT-CREATING-RECIPE-PAGES/blob/main/kamloop_assignment.ipynb\" target=\"_parent\"><img src=\"https://colab.research.google.com/assets/colab-badge.svg\" alt=\"Open In Colab\"/></a>"
      ]
    },
    {
      "cell_type": "code",
      "execution_count": null,
      "metadata": {
        "id": "ZA9y8gyJ28bf"
      },
      "outputs": [],
      "source": [
        "# install requirements\n",
        "!pip install -r requirements.txt\n",
        "\n",
        "# assignment\n",
        "!python main.py\n"
      ]
    }
  ]
}